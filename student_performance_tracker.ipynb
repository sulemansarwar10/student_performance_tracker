{
  "nbformat": 4,
  "nbformat_minor": 0,
  "metadata": {
    "colab": {
      "provenance": [],
      "authorship_tag": "ABX9TyOZST1wMpuD2wCqiUSGj2GH",
      "include_colab_link": true
    },
    "kernelspec": {
      "name": "python3",
      "display_name": "Python 3"
    },
    "language_info": {
      "name": "python"
    }
  },
  "cells": [
    {
      "cell_type": "markdown",
      "metadata": {
        "id": "view-in-github",
        "colab_type": "text"
      },
      "source": [
        "<a href=\"https://colab.research.google.com/github/sulemansarwar10/student_performance_tracker/blob/main/student_performance_tracker.ipynb\" target=\"_parent\"><img src=\"https://colab.research.google.com/assets/colab-badge.svg\" alt=\"Open In Colab\"/></a>"
      ]
    },
    {
      "cell_type": "markdown",
      "source": [
        "1. Create the Student Class\n",
        "\n",
        "In this step, you will create a class that represents each student. Each student has a name and scores in multiple subjects. The class will also include methods to calculate the average grade and check if the student is passing.\n",
        "\n",
        "To Do:\n",
        "\n",
        "*   Define a class Student.\n",
        "*   Add two attributes: name and scores.\n",
        "*   Write a method calculate_average() to calculate the student's average score.\n",
        "*   Write a method is_passing() to check if the student has passed all subjects."
      ],
      "metadata": {
        "id": "5jp0SPXRF2R9"
      }
    },
    {
      "cell_type": "code",
      "source": [
        "class student:\n",
        "  def __init__(self,name,score):\n",
        "    self.name=name\n",
        "    self.score=score\n",
        "\n",
        "  def calculate_average(self):\n",
        "    avg=sum(self.score)/3\n",
        "    return round(avg,2)\n",
        "  def is_passing(self):\n",
        "    return all(num > 40 for num in self.score)"
      ],
      "metadata": {
        "id": "jJHmDJY4FR5g"
      },
      "execution_count": null,
      "outputs": []
    },
    {
      "cell_type": "markdown",
      "source": [
        "2. Create the PerformanceTracker Class\n",
        "This class will manage multiple students and provide methods to calculate the class average and display student performance.\n",
        "\n",
        "To Do:\n",
        "\n",
        "*   Define a class PerformanceTracker.\n",
        "*   Add an attribute students, which is a dictionary where the keys are student names and the values are Student objects.\n",
        "*   Write a method add_student() to add new students to the tracker.\n",
        "*   Write a method calculate_class_average() to calculate the average score across all students.\n",
        "\n",
        "*   Write a method display_student_performance() to print each student's performance."
      ],
      "metadata": {
        "id": "shPEr7GPGZYO"
      }
    },
    {
      "cell_type": "code",
      "source": [
        "\n",
        "class PerformanceTracker:\n",
        "  def __init__(self):\n",
        "    self.Students={}\n",
        "\n",
        "  def add_student(self, name, score):\n",
        "    self.Students[name]=student(name,score)\n",
        "\n",
        "\n",
        "  def calculate_class_average(self):\n",
        "    if not self.Students:\n",
        "      return 0\n",
        "    return round(sum(score.calculate_average() for score in self.Students.values())/len(self.Students),2)\n",
        "\n",
        "\n",
        "  def display_student_performance(self):\n",
        "    if not self.Students:\n",
        "      print(\"sorry! currently there is no student in the class\")\n",
        "    else:\n",
        "      print(\"Performance of All Students in Class is:\")\n",
        "      serial=1\n",
        "      for student in self.Students.values():\n",
        "        status = \"Passed\" if student.is_passing() else \"Failed\"\n",
        "        print(f\" {serial}) {student.name} has average score {student.calculate_average()} & his result status is {status} \")\n",
        "        serial+=1"
      ],
      "metadata": {
        "id": "pKjw0NtYFTCX"
      },
      "execution_count": null,
      "outputs": []
    },
    {
      "cell_type": "markdown",
      "source": [
        "3. Handle User Input\n",
        "You will allow users (teachers) to input student names and scores for three subjects. You’ll also handle invalid input, such as non-numeric grades, using a try-except block.\n",
        "\n",
        "To Do:\n",
        "\n",
        "\n",
        "*   Write a loop that continuously asks the teacher to enter student data.\n",
        "*   Ask for the student’s name and their scores for three subjects.\n",
        "Use try-except to handle invalid input and give feedback to the user.\n",
        "\n",
        "\n",
        "\n"
      ],
      "metadata": {
        "id": "a59zqJz2Gr60"
      }
    },
    {
      "cell_type": "code",
      "source": [
        "def get_student_scores():\n",
        "    subjects = [\"Math\", \"Science\", \"English\"]\n",
        "    scores = []\n",
        "    for subject in subjects:\n",
        "        while True:\n",
        "            try:\n",
        "                score = int(input(f\"Enter score for {subject}: \"))\n",
        "                if 0 <= score <= 100:\n",
        "                    scores.append(score)\n",
        "                    break\n",
        "                else:\n",
        "                    print(\"Score must be between 0 and 100.\")\n",
        "            except ValueError:\n",
        "                print(\"Invalid input. Please enter a number.\")\n",
        "    return scores\n"
      ],
      "metadata": {
        "id": "_pOM-aXHFaas"
      },
      "execution_count": null,
      "outputs": []
    },
    {
      "cell_type": "markdown",
      "source": [
        "4. Calculate Averages and Display Performance\n",
        "After the students' data has been entered, you will calculate and display each student's performance and the class average.\n",
        "\n",
        "To Do:\n",
        "\n",
        "\n",
        "*   For each student, call the method calculate_average() to get their average score.\n",
        "*   Use is_passing() to check if the student is passing or needs improvement.\n",
        "*   Display this information to the user in a clear format.\n",
        "\n",
        "\n",
        "\n",
        "\n"
      ],
      "metadata": {
        "id": "eIBYUn1OHG2p"
      }
    },
    {
      "cell_type": "code",
      "execution_count": null,
      "metadata": {
        "colab": {
          "base_uri": "https://localhost:8080/"
        },
        "id": "Yv-UoOMWh3eP",
        "outputId": "ee0eeb97-cbcb-4228-ea73-095b26c3dd21"
      },
      "outputs": [
        {
          "output_type": "stream",
          "name": "stdout",
          "text": [
            "Enter the student Name (or type 'done' to finish):done\n",
            "sorry! currently there is no student in the class\n",
            "average score of class is 0\n"
          ]
        }
      ],
      "source": [
        "\n",
        "\n",
        "\n",
        "data=PerformanceTracker()\n",
        "\n",
        "\n",
        "while True:\n",
        "  try:\n",
        "    name=input(\"Enter the student Name (or type 'done' to finish):\")\n",
        "    if name.lower()==\"done\":\n",
        "      break\n",
        "    if len(name)<1:\n",
        "      print(\"Name value should be greater than 1\")\n",
        "    else:\n",
        "     score=get_student_scores()\n",
        "     data.add_student(name,score)\n",
        "  except ValueError:\n",
        "    print(\"Invalid value! Please enter correct score\")\n",
        "\n",
        "\n",
        "\n",
        "\n",
        "data.display_student_performance()\n",
        "print(f\"average score of class is {data.calculate_class_average()}\")\n",
        "\n",
        "\n"
      ]
    },
    {
      "cell_type": "code",
      "source": [],
      "metadata": {
        "id": "RWWUOURfFOCU"
      },
      "execution_count": null,
      "outputs": []
    },
    {
      "cell_type": "code",
      "source": [
        "\n",
        "\n"
      ],
      "metadata": {
        "id": "EkrZ205Vh8SE"
      },
      "execution_count": null,
      "outputs": []
    }
  ]
}